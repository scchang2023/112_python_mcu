{
 "cells": [
  {
   "cell_type": "code",
   "execution_count": null,
   "metadata": {},
   "outputs": [],
   "source": [
    "# 宣告字典\n",
    "dict1 = {\n",
    "    \"香蕉\":20,\n",
    "    \"蘋果\":50,\n",
    "    \"橘子\":30\n",
    "}\n",
    "print(dict1) # {'香蕉': 20, '蘋果': 50, '橘子': 30}"
   ]
  },
  {
   "cell_type": "code",
   "execution_count": null,
   "metadata": {},
   "outputs": [],
   "source": [
    "# 如果鍵重覆，前面的鍵會被覆蓋\n",
    "dict2 = {\n",
    "    \"香蕉\":20,\n",
    "    \"蘋果\":50,\n",
    "    \"橘子\":30,\n",
    "    \"香蕉\":25\n",
    "}\n",
    "print(dict2)"
   ]
  },
  {
   "cell_type": "code",
   "execution_count": null,
   "metadata": {},
   "outputs": [],
   "source": [
    "# 字典的鍵不存在時\n",
    "dict1={\"A\":\"內向穩重\", \"B\":\"外向樂觀\", \"O\":\"堅強自信\", \"AB\":\"聰明自然\"}\n",
    "name=input(\"輸入要查詢的血型:\")\n",
    "blood=dict1.get(name)\n",
    "if blood==None:  \n",
    "    print(f\"沒有{name}血型！\")\n",
    "else:  \n",
    "    print(f\"{name}血型的個性為：{dict1[name]}\")"
   ]
  },
  {
   "cell_type": "code",
   "execution_count": null,
   "metadata": {},
   "outputs": [],
   "source": [
    "# 進階功能整理\n",
    "# 取得元素個素\n",
    "dict1 = {\"joe\":5, \"mary\":8}\n",
    "n = len(dict1)\n",
    "print(n) # 2\n",
    "# 複制字典\n",
    "dict2 = dict1.copy()\n",
    "print(dict2) # {'joe': 5, 'mary': 8}\n",
    "# 檢查鍵是否存在\n",
    "b = \"joe\" in dict1\n",
    "print(b) # True\n",
    "# 取得以 鍵-值 組為元素的組合\n",
    "item1 = dict1.items()\n",
    "print(item1, type(item1)) # dict_items([('joe', 5), ('mary', 8)]) <class 'dict_items'>\n",
    "# 取得以 鍵 為元小的組合\n",
    "key1 = dict1.keys()\n",
    "print(key1, type(key1)) # dict_keys(['joe', 'mary']) <class 'dict_keys'>\n",
    "# 與get()類似，若鍵不存在，以 鍵-值 建立新元素\n",
    "n = dict1.setdefault(\"joe\")\n",
    "print(n) # 5\n",
    "# 取得以 值 為元素的組合\n",
    "value1 = dict1.values()\n",
    "print(value1) # dict_values([5, 8])"
   ]
  }
 ],
 "metadata": {
  "kernelspec": {
   "display_name": "Python 3",
   "language": "python",
   "name": "python3"
  },
  "language_info": {
   "codemirror_mode": {
    "name": "ipython",
    "version": 3
   },
   "file_extension": ".py",
   "mimetype": "text/x-python",
   "name": "python",
   "nbconvert_exporter": "python",
   "pygments_lexer": "ipython3",
   "version": "3.11.5"
  }
 },
 "nbformat": 4,
 "nbformat_minor": 2
}
