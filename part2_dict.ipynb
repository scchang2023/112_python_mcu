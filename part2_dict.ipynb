{
 "cells": [
  {
   "cell_type": "code",
   "execution_count": null,
   "metadata": {},
   "outputs": [],
   "source": [
    "# 宣告字典\n",
    "dict1 = {\n",
    "    \"香蕉\":20,\n",
    "    \"蘋果\":50,\n",
    "    \"橘子\":30\n",
    "}\n",
    "print(dict1) # {'香蕉': 20, '蘋果': 50, '橘子': 30}"
   ]
  },
  {
   "cell_type": "code",
   "execution_count": null,
   "metadata": {},
   "outputs": [],
   "source": [
    "# 如果鍵重覆，前面的鍵會被覆蓋\n",
    "dict2 = {\n",
    "    \"香蕉\":20,\n",
    "    \"蘋果\":50,\n",
    "    \"橘子\":30,\n",
    "    \"香蕉\":25\n",
    "}\n",
    "print(dict2)"
   ]
  },
  {
   "cell_type": "code",
   "execution_count": 26,
   "metadata": {},
   "outputs": [
    {
     "name": "stdout",
     "output_type": "stream",
     "text": [
      "沒有X血型！\n"
     ]
    }
   ],
   "source": [
    "# 字典的鍵不存在時\n",
    "dict1={\"A\":\"內向穩重\", \"B\":\"外向樂觀\", \"O\":\"堅強自信\", \"AB\":\"聰明自然\"}\n",
    "name=input(\"輸入要查詢的血型:\")\n",
    "blood=dict1.get(name)\n",
    "if blood==None:  \n",
    "    print(f\"沒有{name}血型！\")\n",
    "else:  \n",
    "    print(f\"{name}血型的個性為：{dict1[name]}\")"
   ]
  }
 ],
 "metadata": {
  "kernelspec": {
   "display_name": "Python 3",
   "language": "python",
   "name": "python3"
  },
  "language_info": {
   "codemirror_mode": {
    "name": "ipython",
    "version": 3
   },
   "file_extension": ".py",
   "mimetype": "text/x-python",
   "name": "python",
   "nbconvert_exporter": "python",
   "pygments_lexer": "ipython3",
   "version": "3.11.5"
  }
 },
 "nbformat": 4,
 "nbformat_minor": 2
}
