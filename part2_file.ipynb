{
 "cells": [
  {
   "cell_type": "code",
   "execution_count": 1,
   "metadata": {},
   "outputs": [],
   "source": [
    "# 寫檔\n",
    "content='''Hello Python\n",
    "中文字測試\n",
    "Welcome\n",
    "'''\n",
    "f=open(\"file1.txt\",\"w\")\n",
    "f.write(content)\n",
    "f.close()"
   ]
  },
  {
   "cell_type": "code",
   "execution_count": null,
   "metadata": {},
   "outputs": [],
   "source": [
    "# 讀檔\n",
    "f=open(\"file1.txt\",\"r\")\n",
    "for line in f:\n",
    "    print(line,end=\"\")\n",
    "f.close()"
   ]
  },
  {
   "cell_type": "code",
   "execution_count": 3,
   "metadata": {},
   "outputs": [
    {
     "name": "stdout",
     "output_type": "stream",
     "text": [
      "Hello Python\n",
      "中文字測試\n",
      "Welcome\n"
     ]
    }
   ],
   "source": [
    "# 使用 with as，會自動關檔\n",
    "with open(\"file1.txt\",\"r\") as f:\n",
    "    for line in f:\n",
    "        print(line,end=\"\")"
   ]
  }
 ],
 "metadata": {
  "kernelspec": {
   "display_name": "Python 3",
   "language": "python",
   "name": "python3"
  },
  "language_info": {
   "codemirror_mode": {
    "name": "ipython",
    "version": 3
   },
   "file_extension": ".py",
   "mimetype": "text/x-python",
   "name": "python",
   "nbconvert_exporter": "python",
   "pygments_lexer": "ipython3",
   "version": "3.11.5"
  }
 },
 "nbformat": 4,
 "nbformat_minor": 2
}
