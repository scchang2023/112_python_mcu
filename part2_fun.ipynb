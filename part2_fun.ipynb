{
 "cells": [
  {
   "cell_type": "code",
   "execution_count": null,
   "metadata": {},
   "outputs": [],
   "source": [
    "def ctof(c):  #攝氏轉華氏\n",
    "    f=c*1.8+32\n",
    "    return f\n",
    "\n",
    "inputc=float(input(\"請輸入攝氏溫度：\"))\n",
    "x=ctof(inputc)\n",
    "print(f\"華氏溫度為：{x:5.1f}度\")"
   ]
  },
  {
   "cell_type": "code",
   "execution_count": null,
   "metadata": {},
   "outputs": [],
   "source": [
    "# 數值函式\n",
    "# 取絕對值\n",
    "print(abs(-5)) # 5\n",
    "# 取得整數 x 的字元\n",
    "print(chr(65)) # A\n",
    "# 取得x除以y的商及餘數的元組\n",
    "print(divmod(44,6)) # (7, 2)\n",
    "# 轉成浮點數\n",
    "print(float(\"56\")) # 56.0\n",
    "# 轉成十六進位數字\n",
    "print(hex(34)) # 0x22\n",
    "# 轉成整數\n",
    "print(int(34.21)) # 34\n",
    "# 取得元素個數\n",
    "print(len([1, 3, 5, 7])) # 4\n",
    "# 取得參數串列最大值\n",
    "print(max(1, 3, 5, 7)) # 7\n",
    "# 取得參數串列最小值\n",
    "print(min(1, 3, 5, 7)) # 1\n",
    "# 轉成八進位數字\n",
    "print(oct(34)) # 0o42\n",
    "# 回傳字元 x 的 unicode 編碼值\n",
    "print(ord(\"我\")) # 25105\n",
    "# 取得 x 的 y 次方\n",
    "print(pow(2, 3)) # 8\n",
    "# 以四捨五入法取得 x 的近似值\n",
    "print(round(45.8)) # 46\n",
    "# 由小到大排序\n",
    "print(sorted([3, 1, 7, 5])) # [1, 3, 5, 7]\n",
    "# 將 x 轉成字串\n",
    "print(str(56)) # 56\n",
    "# 計算串列元素的總合\n",
    "print(sum([1, 3, 5, 7])) # 16"
   ]
  },
  {
   "cell_type": "code",
   "execution_count": null,
   "metadata": {},
   "outputs": [],
   "source": [
    "# 常用的字串函式\n",
    "# 擴充為n個字元並置中\n",
    "print(\"book\".center(8)) # \"  book  \"\n",
    "# 搜尋s字串在字串中的位置\n",
    "print(\"book\".find(\"k\")) # 3\n",
    "# 字串是否以s字串結尾\n",
    "print(\"abc\".endswith(\"c\")) # True\n",
    "# 字串是否都是小寫字母\n",
    "print(\"Yes\".islower()) # False\n",
    "# 字串是否都是大寫字母\n",
    "print(\"YES\".isupper()) # True\n",
    "# 將串列中元素以 s 字串做為連接字元組成一個字串\n",
    "print(\"#\".join([\"ab\",\"cd\",\"ef\"])) # ab#cd#ef\n",
    "# 取得字串的長度\n",
    "print(len(\"book\")) # 4\n",
    "# 將字串擴充為 n 個字元並靠左\n",
    "print(\"book\".ljust(8)) # \"book    \"\n",
    "# 將字串字元都轉為小寫字母\n",
    "print(\"YEs\".lower())\n",
    "# 移除字串左方的空白字元\n",
    "print(\" book \".lstrip()) # \"book \""
   ]
  }
 ],
 "metadata": {
  "kernelspec": {
   "display_name": "Python 3",
   "language": "python",
   "name": "python3"
  },
  "language_info": {
   "codemirror_mode": {
    "name": "ipython",
    "version": 3
   },
   "file_extension": ".py",
   "mimetype": "text/x-python",
   "name": "python",
   "nbconvert_exporter": "python",
   "pygments_lexer": "ipython3",
   "version": "3.11.5"
  }
 },
 "nbformat": 4,
 "nbformat_minor": 2
}
