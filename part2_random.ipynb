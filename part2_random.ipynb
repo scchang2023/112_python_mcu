{
 "cells": [
  {
   "cell_type": "code",
   "execution_count": null,
   "metadata": {},
   "outputs": [],
   "source": [
    "# 常用亂數套件\n",
    "import random as r\n",
    "str1 = \"abcdefg\"\n",
    "# 從字串中隨機取得一個字元\n",
    "print(r.choice(str1)) # d\n",
    "# 從 n1 到 n2 之間隨機取得一個整數\n",
    "print(r.randint(1, 10)) # 2\n",
    "# 從 0 到 1 之間隨機取得一個浮點數\n",
    "print(r.random()) # 0.2558971477012246\n"
   ]
  }
 ],
 "metadata": {
  "kernelspec": {
   "display_name": "Python 3",
   "language": "python",
   "name": "python3"
  },
  "language_info": {
   "codemirror_mode": {
    "name": "ipython",
    "version": 3
   },
   "file_extension": ".py",
   "mimetype": "text/x-python",
   "name": "python",
   "nbconvert_exporter": "python",
   "pygments_lexer": "ipython3",
   "version": "3.11.5"
  }
 },
 "nbformat": 4,
 "nbformat_minor": 2
}
