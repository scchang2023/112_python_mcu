{
 "cells": [
  {
   "cell_type": "code",
   "execution_count": null,
   "metadata": {},
   "outputs": [],
   "source": [
    "# 建立元組\n",
    "tuple1 = (1, 2, 3, 4, 5)\n",
    "tuple2 = (1, \"香蕉\", \"橘子\")\n",
    "print(tuple1, tuple2)\n",
    "\n",
    "# 不能修改元素值\n",
    "tuple3 = (\"香蕉\", \"蘋果\", \"橘子\")\n",
    "print(tuple3[1])\n",
    "tuple3[1] = \"芭樂\""
   ]
  },
  {
   "cell_type": "code",
   "execution_count": null,
   "metadata": {},
   "outputs": [],
   "source": [
    "# 串列和元組互相轉換\n",
    "# 元組轉串列\n",
    "tuple1 = (1, 2, 3, 4, 5)\n",
    "list1 = list(tuple1)\n",
    "print(list1) # [1, 2, 3, 4, 5]\n",
    "list1.append(8)"
   ]
  },
  {
   "cell_type": "code",
   "execution_count": null,
   "metadata": {},
   "outputs": [],
   "source": [
    "# 串列和元組互相轉換\n",
    "# 串列轉元組\n",
    "list2 = [1, 2, 3, 4, 5]\n",
    "tuple2 = tuple(list2)\n",
    "print(tuple2) # (1, 2, 3, 4, 5)\n",
    "tuple2.append(8) # AttributeError: 'tuple' object has no attribute 'append'"
   ]
  }
 ],
 "metadata": {
  "kernelspec": {
   "display_name": "Python 3",
   "language": "python",
   "name": "python3"
  },
  "language_info": {
   "codemirror_mode": {
    "name": "ipython",
    "version": 3
   },
   "file_extension": ".py",
   "mimetype": "text/x-python",
   "name": "python",
   "nbconvert_exporter": "python",
   "pygments_lexer": "ipython3",
   "version": "3.11.5"
  }
 },
 "nbformat": 4,
 "nbformat_minor": 2
}
