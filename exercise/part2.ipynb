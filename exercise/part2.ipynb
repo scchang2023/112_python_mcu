{
 "cells": [
  {
   "cell_type": "code",
   "execution_count": null,
   "metadata": {},
   "outputs": [],
   "source": [
    "# 串列宣告，可以不同型態\n",
    "list1 = [1, 2, 3, 4, 5]\n",
    "list2 = [\"香蕉\", \"蘋果\", \"橘子\"]\n",
    "list3 = [1, \"香蕉\", True]\n",
    "print(list1, list2, list3)"
   ]
  },
  {
   "cell_type": "code",
   "execution_count": null,
   "metadata": {},
   "outputs": [],
   "source": [
    "# 空串列\n",
    "list4 = []\n",
    "# 多維串列宣告\n",
    "list5 = [[\"joe\",\"1234\"],[\"marry\",\"abcd\"], [\"david\",\"5678\"]]\n",
    "print(list5[1]) # [\"marry\",\"abcd\"]\n",
    "print(list5[1][1]) # abcd"
   ]
  },
  {
   "cell_type": "code",
   "execution_count": null,
   "metadata": {},
   "outputs": [],
   "source": [
    "# 讀取串列元素\n",
    "list1 = [1, 2, 3, 4, 5]\n",
    "print(list1[0]) # 1\n",
    "\n",
    "# 超出範圍\n",
    "list4 = [\"香蕉\", \"蘋果\", \"橘子\"]\n",
    "print(list4[1]) # 蘋果\n",
    "print(list4[2]) # 橘子\n",
    "print(list4[3]) # IndexError: list index out of range"
   ]
  },
  {
   "cell_type": "code",
   "execution_count": null,
   "metadata": {},
   "outputs": [],
   "source": [
    "# 超出範圍\n",
    "list4 = [\"香蕉\", \"蘋果\", \"橘子\"]\n",
    "print(list4[-1]) # 蘋果\n",
    "print(list4[-3]) # 橘子\n",
    "print(list4[-4]) # IndexError: list index out of range"
   ]
  },
  {
   "cell_type": "code",
   "execution_count": null,
   "metadata": {},
   "outputs": [],
   "source": [
    "# 改變串列元素\n",
    "list1 = [1, 2, 3, 4, 5]\n",
    "print(list1[0]) # 1\n",
    "list1[0]=9 # 更改為 9\n",
    "print(list1[0]) # 9"
   ]
  },
  {
   "cell_type": "code",
   "execution_count": null,
   "metadata": {},
   "outputs": [],
   "source": [
    "# 使用 for in 讀取串列\n",
    "list1 = [\"香蕉\", \"蘋果\", \"橘子\"]\n",
    "for s in list1:\n",
    "    print(s, end=\",\")"
   ]
  },
  {
   "cell_type": "code",
   "execution_count": null,
   "metadata": {},
   "outputs": [],
   "source": [
    "# 使用 for in range 讀取串列\n",
    "scores= [85, 79, 93]\n",
    "print(len(scores))\n",
    "for i in range(len(scores)):\n",
    "    print(scores[i], end=\",\")"
   ]
  },
  {
   "cell_type": "code",
   "execution_count": null,
   "metadata": {},
   "outputs": [],
   "source": [
    "# index 搜尋\n",
    "list1 = [\"香蕉\", \"蘋果\", \"橘子\"]\n",
    "n = list1.index(\"蘋果\") # n=1\n",
    "print(n)\n",
    "m = list1.index(\"梨子\") # ValueError: '梨子' is not in list"
   ]
  },
  {
   "cell_type": "code",
   "execution_count": null,
   "metadata": {},
   "outputs": [],
   "source": [
    "# count 計算次數\n",
    "list1 = [\"香蕉\", \"蘋果\", \"橘子\"]\n",
    "n = list1.count(\"橘子\") # n=1\n",
    "m = list1.count(\"梨子\") # m=0\n",
    "print(n, m)"
   ]
  },
  {
   "cell_type": "code",
   "execution_count": null,
   "metadata": {},
   "outputs": [],
   "source": [
    "# 增加串列元素\n",
    "# append() 方法\n",
    "list1 = [1, 2, 3, 4, 5, 6]\n",
    "list1.append(\"金榜\")\n",
    "print(list1) # [1, 2, 3, 4, 5, 6, '金榜']\n",
    "print(len(list1)) # 7"
   ]
  },
  {
   "cell_type": "code",
   "execution_count": null,
   "metadata": {},
   "outputs": [],
   "source": [
    "# 增加串列元素\n",
    "# insert() 方法\n",
    "list1 = [1, 2, 3, 4, 5, 6]\n",
    "list1.insert(3, \"紅榜\")\n",
    "print(list1) # [1, 2, 3, '紅榜', 4, 5, 6]"
   ]
  },
  {
   "cell_type": "code",
   "execution_count": null,
   "metadata": {},
   "outputs": [],
   "source": [
    "list1 = [1, 2, 3, 4, 5, 6]\n",
    "# -1 最後一個元素\n",
    "list1.insert(-1, \"愛\")\n",
    "list1.insert(12, \"台灣\")\n",
    "print(list1, len(list1)) # [1, 2, 3, 4, 5, '愛', 6, '台灣'] 8"
   ]
  },
  {
   "cell_type": "code",
   "execution_count": null,
   "metadata": {},
   "outputs": [],
   "source": [
    "# 刪除串列元素\n",
    "# remove() 方法\n",
    "list1 = [\"春天\", \"夏天\", \"秋天\", \"冬天\"]\n",
    "list1.remove(\"夏天\")\n",
    "print(list1) # ['春天', '秋天', '冬天']"
   ]
  },
  {
   "cell_type": "code",
   "execution_count": null,
   "metadata": {},
   "outputs": [],
   "source": [
    "# 刪除串列元素\n",
    "# pop() 方法\n",
    "list1 = [1, 2, 3, 4, 5, 6]\n",
    "n = list1.pop()\n",
    "print(n, list1) # 6 [1, 2, 3, 4, 5]\n",
    "n = list1.pop(2)\n",
    "print(n, list1) # 3 [1, 2, 4, 5]"
   ]
  },
  {
   "cell_type": "code",
   "execution_count": 18,
   "metadata": {},
   "outputs": [
    {
     "name": "stdout",
     "output_type": "stream",
     "text": [
      "[1, 3, 4, 5, 6]\n"
     ]
    }
   ],
   "source": [
    "# 刪除串列元素\n",
    "# del\n",
    "list1 = [1, 2, 3, 4, 5, 6]\n",
    "del list1[1]\n",
    "print(list1)"
   ]
  }
 ],
 "metadata": {
  "kernelspec": {
   "display_name": "Python 3",
   "language": "python",
   "name": "python3"
  },
  "language_info": {
   "codemirror_mode": {
    "name": "ipython",
    "version": 3
   },
   "file_extension": ".py",
   "mimetype": "text/x-python",
   "name": "python",
   "nbconvert_exporter": "python",
   "pygments_lexer": "ipython3",
   "version": "3.11.5"
  }
 },
 "nbformat": 4,
 "nbformat_minor": 2
}
