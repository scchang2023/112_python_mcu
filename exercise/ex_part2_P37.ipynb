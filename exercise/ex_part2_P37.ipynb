{
 "cells": [
  {
   "cell_type": "code",
   "execution_count": null,
   "metadata": {},
   "outputs": [],
   "source": [
    "# 不同星座的人有不同的性格特徵。『鍵』為星座名稱，『值』為性格特徵。\n",
    "# 利用items功能顯示星座名稱及該星座的性格特徵。\n",
    "dict1 = {\n",
    "    \"牡羊座\":\"積極、自信、好勝\",\n",
    "    \"金牛座\":\"踏實、堅定、有耐性\",\n",
    "    \"雙子座\":\"聰明、好奇、多變\",\n",
    "    \"巨蟹座\":\"敏感、情感豐富、家庭意識強\",\n",
    "    \"獅子座\":\"自信、慷慨、領導力強\",\n",
    "    \"處女座\":\"謹慎、細膩、有分析力\",\n",
    "    \"天秤座\":\"平衡、美感、公正\",\n",
    "    \"天蠍座\":\"神秘、熱情、自主性強\",\n",
    "    \"射手座\":\"自由、好奇、冒險精神\",\n",
    "    \"摩羯座\":\"堅定、負責、實幹\",\n",
    "    \"水瓶座\":\"獨立、創新、理性\",\n",
    "    \"雙魚座\":\"敏感、浪漫、有同情心\"\n",
    "}\n",
    "items = list(dict1.items())\n",
    "# print(items)\n",
    "for name, personality in items:\n",
    "    print(f\"{name}的個性：{personality}\")"
   ]
  }
 ],
 "metadata": {
  "kernelspec": {
   "display_name": "Python 3",
   "language": "python",
   "name": "python3"
  },
  "language_info": {
   "codemirror_mode": {
    "name": "ipython",
    "version": 3
   },
   "file_extension": ".py",
   "mimetype": "text/x-python",
   "name": "python",
   "nbconvert_exporter": "python",
   "pygments_lexer": "ipython3",
   "version": "3.11.5"
  }
 },
 "nbformat": 4,
 "nbformat_minor": 2
}
