{
 "cells": [
  {
   "cell_type": "code",
   "execution_count": null,
   "metadata": {},
   "outputs": [],
   "source": [
    "# 猜拳。\n",
    "# 1剪刀、2石頭、3布，與電腦猜拳，並統計輸贏的次數。\n",
    "import random as r\n",
    "\n",
    "def get_winner(player:int, computer:int):\n",
    "    # 0 剪刀、1 石頭、2 布\n",
    "    # 0 平手, 1 player 贏, 2 computer 贏 \n",
    "    winner = None\n",
    "    if player == computer:\n",
    "        winner = 0\n",
    "    elif player == 0 and computer == 2:\n",
    "        winner = 1\n",
    "    elif player == 1 and computer == 0:\n",
    "        winner = 1\n",
    "    elif player == 2 and computer == 1:\n",
    "        winner = 1\n",
    "    else:\n",
    "        winner = 2\n",
    "    return winner\n",
    "\n",
    "option_list = [\"剪刀\", \"石頭\", \"布\"]\n",
    "winner_list = [\"平手\", \"玩家\", \"電腦\"]\n",
    "player_input = int(input(\"請輸入 [0]剪刀 [1]石頭 [2]布 :\"))\n",
    "computer_input = r.randint(0, 2)\n",
    "print(f\"玩家出：{option_list[player_input]}\")\n",
    "print(f\"電腦出：{option_list[computer_input]}\")\n",
    "winner = get_winner(player_input, computer_input)\n",
    "print(f\"贏家是：{winner_list[winner]}\")"
   ]
  }
 ],
 "metadata": {
  "kernelspec": {
   "display_name": "Python 3",
   "language": "python",
   "name": "python3"
  },
  "language_info": {
   "codemirror_mode": {
    "name": "ipython",
    "version": 3
   },
   "file_extension": ".py",
   "mimetype": "text/x-python",
   "name": "python",
   "nbconvert_exporter": "python",
   "pygments_lexer": "ipython3",
   "version": "3.11.5"
  }
 },
 "nbformat": 4,
 "nbformat_minor": 2
}
