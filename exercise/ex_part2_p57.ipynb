{
 "cells": [
  {
   "cell_type": "code",
   "execution_count": null,
   "metadata": {},
   "outputs": [],
   "source": [
    "# 猜拳。\n",
    "# 1剪刀、2石頭、3布，與電腦猜拳，並統計輸贏的次數。\n",
    "\n",
    "def get_winner(user:int, computer:int):\n",
    "    if user == computer:\n",
    "        return 0\n",
    "    pass"
   ]
  }
 ],
 "metadata": {
  "language_info": {
   "name": "python"
  }
 },
 "nbformat": 4,
 "nbformat_minor": 2
}
