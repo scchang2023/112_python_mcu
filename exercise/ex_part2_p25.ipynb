{
 "cells": [
  {
   "cell_type": "code",
   "execution_count": null,
   "metadata": {},
   "outputs": [],
   "source": [
    "# 先輸入一個整數N，再以迴圈方式輸入N個數字，並將這些數字存入串列中。\n",
    "N = int(input(\"輸入一整數 : \"))\n",
    "list1 = []\n",
    "for i in range(N):\n",
    "    num = int(input(f\"輸入第 {i+1} 個數字 : \"))\n",
    "    list1.append(num)\n",
    "print(list1)"
   ]
  },
  {
   "cell_type": "code",
   "execution_count": 6,
   "metadata": {},
   "outputs": [
    {
     "name": "stdout",
     "output_type": "stream",
     "text": [
      "[0, 1, 1, 2, 3]\n"
     ]
    }
   ],
   "source": [
    "# 輸入一個整數N，將N項的費氏數列存到串列中。\n",
    "# 所謂費波那契數列，是指在一串數字中，每一項是前兩項的和。\n",
    "# 數學上的定義為：第 0 項 = 0、第 1 項 = 1、第 n 項 = 第 n-1 項 + 第 n-2 項。\n",
    "# 從上面的數學定義，我們可以簡單列出數列的0 到 10 項為：0, 1, 1, 2, 3, 5, 8, 13, 21, 34, 55。\n",
    "N = int(input(\"輸入一整數 : \"))\n",
    "list1 = []\n",
    "for i in range(N):\n",
    "    if i < 2:\n",
    "        list1.append(i)\n",
    "    else:\n",
    "        # num = list1[i-1] + list1[i-2]\n",
    "        num = sum(list1[i-2:i])\n",
    "        list1.append(num)\n",
    "print(list1)"
   ]
  }
 ],
 "metadata": {
  "kernelspec": {
   "display_name": "Python 3",
   "language": "python",
   "name": "python3"
  },
  "language_info": {
   "codemirror_mode": {
    "name": "ipython",
    "version": 3
   },
   "file_extension": ".py",
   "mimetype": "text/x-python",
   "name": "python",
   "nbconvert_exporter": "python",
   "pygments_lexer": "ipython3",
   "version": "3.11.5"
  }
 },
 "nbformat": 4,
 "nbformat_minor": 2
}
