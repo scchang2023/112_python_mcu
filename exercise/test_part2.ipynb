{
 "cells": [
  {
   "cell_type": "code",
   "execution_count": null,
   "metadata": {},
   "outputs": [],
   "source": [
    "# 串列宣告\n",
    "list1 = [1, 2, 3, 4, 5]\n",
    "list2 = [\"香蕉\", \"蘋果\", \"橘子\"]\n",
    "list3 = [1, \"香蕉\", True]\n",
    "print(list1, list2, list3)"
   ]
  },
  {
   "cell_type": "code",
   "execution_count": null,
   "metadata": {},
   "outputs": [],
   "source": [
    "list4 = []\n",
    "list5 = [[\"joe\",\"1234\"],[\"marry\",\"abcd\"], [\"david\",\"5678\"]]\n",
    "print(list5[1]) # [\"marry\",\"abcd\"]\n",
    "print(list5[1][1]) # abcd"
   ]
  },
  {
   "cell_type": "code",
   "execution_count": null,
   "metadata": {},
   "outputs": [],
   "source": [
    "scores= [85, 79, 93]\n",
    "print(len(scores))\n",
    "for i in range(len(scores)):\n",
    "    print(scores[i], end=\",\")"
   ]
  },
  {
   "cell_type": "code",
   "execution_count": null,
   "metadata": {},
   "outputs": [],
   "source": [
    "list1 = [\"香蕉\", \"蘋果\", \"橘子\"]\n",
    "n = list1.index(\"蘋果\")\n",
    "print(n)\n",
    "m = list1.index(\"梨子\") # ValueError: '梨子' is not in list"
   ]
  },
  {
   "cell_type": "code",
   "execution_count": null,
   "metadata": {},
   "outputs": [],
   "source": [
    "list1 = [\"香蕉\", \"蘋果\", \"橘子\"]\n",
    "n = list1.count(\"橘子\")\n",
    "m = list1.count(\"梨子\")\n",
    "print(n, m)"
   ]
  },
  {
   "cell_type": "code",
   "execution_count": null,
   "metadata": {},
   "outputs": [],
   "source": [
    "# 增加串列元素\n",
    "list1 = [1, 2, 3, 4, 5, 6]\n",
    "list1.append(\"金榜\")\n",
    "print(list1)\n",
    "print(len(list1))"
   ]
  },
  {
   "cell_type": "code",
   "execution_count": null,
   "metadata": {},
   "outputs": [],
   "source": [
    "list1 = [1, 2, 3, 4, 5, 6]\n",
    "list1.insert(3, \"紅榜\")\n",
    "print(list1)"
   ]
  },
  {
   "cell_type": "code",
   "execution_count": null,
   "metadata": {},
   "outputs": [],
   "source": [
    "list1 = [1, 2, 3, 4, 5, 6]\n",
    "list1.insert(-1, \"愛\")\n",
    "list1.insert(12, \"台灣\")\n",
    "print(list1, len(list1))"
   ]
  },
  {
   "cell_type": "code",
   "execution_count": null,
   "metadata": {},
   "outputs": [],
   "source": [
    "# 刪除串列元素\n",
    "list1 = [\"春天\", \"夏天\", \"秋天\", \"冬天\"]\n",
    "list1.remove(\"夏天\")\n",
    "print(list1)"
   ]
  }
 ],
 "metadata": {
  "kernelspec": {
   "display_name": "Python 3",
   "language": "python",
   "name": "python3"
  },
  "language_info": {
   "codemirror_mode": {
    "name": "ipython",
    "version": 3
   },
   "file_extension": ".py",
   "mimetype": "text/x-python",
   "name": "python",
   "nbconvert_exporter": "python",
   "pygments_lexer": "ipython3",
   "version": "3.11.5"
  }
 },
 "nbformat": 4,
 "nbformat_minor": 2
}
