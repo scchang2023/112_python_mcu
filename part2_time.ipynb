{
 "cells": [
  {
   "cell_type": "code",
   "execution_count": null,
   "metadata": {},
   "outputs": [],
   "source": [
    "import time as t\n",
    "\n",
    "# 取得目前時間數值\n",
    "print(t.time())\n",
    "\n",
    "# 取得使用者時區的日期及時間資訊\n",
    "print(t.localtime())\n",
    "print(f\"現在是{t.localtime().tm_mon}月\")\n",
    "\n",
    "# 取得使用者時區的日期及時間資訊，並傳回字串格式\n",
    "print(t.ctime())"
   ]
  }
 ],
 "metadata": {
  "kernelspec": {
   "display_name": "Python 3",
   "language": "python",
   "name": "python3"
  },
  "language_info": {
   "codemirror_mode": {
    "name": "ipython",
    "version": 3
   },
   "file_extension": ".py",
   "mimetype": "text/x-python",
   "name": "python",
   "nbconvert_exporter": "python",
   "pygments_lexer": "ipython3",
   "version": "3.11.5"
  }
 },
 "nbformat": 4,
 "nbformat_minor": 2
}
